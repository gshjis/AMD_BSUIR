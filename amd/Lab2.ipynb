{
 "cells": [
  {
   "cell_type": "markdown",
   "metadata": {},
   "source": [
    "# Лабораторная работа №2\n",
    "\n",
    "## Векторно-матричный подход к разложению функции в ряд Тейлора второго и третьего порядка\n",
    "\n",
    "### Введение\n",
    "\n",
    "В предыдущей работе (Лабораторная работа №1) был рассмотрен скалярный случай разложения функции:\n",
    "$$ f(x) = 2 \\log_{10}(x) - (x-2)^2 $$\n",
    "в ряд Тейлора второго порядка в точке $x_0 = 3$.\n",
    "\n",
    "В данной работе мы расширим анализ на случай функции векторного аргумента $f(x_1, x_2)$, где:\n",
    "$$ x = 2x_1 - 7x_2 $$\n",
    "\n",
    "Основные задачи работы:\n",
    "1. Выведение выражений для частных производных первого, второго и третьего порядка\n",
    "2. Построение квадратичной и кубической аппроксимаций\n",
    "3. Анализ точности приближения в окрестности точки $(x_1=12, x_2=3)$"
   ]
  },
  {
   "cell_type": "markdown",
   "metadata": {},
   "source": [
    "## Теоретическая часть\n",
    "\n",
    "### Ряд Тейлора для функции многих переменных\n",
    "\n",
    "Для функции $f: \\mathbb{R}^n \\rightarrow \\mathbb{R}$ разложение в ряд Тейлора третьего порядка вокруг точки $\\mathbf{x}_0 = (x_{1_0}, x_{2_0}, \\dots, x_{n_0})$ имеет вид:\n",
    "\n",
    "$$ f(\\mathbf{x}) \\approx f(\\mathbf{x}_0) + \\nabla f(\\mathbf{x}_0)^T (\\mathbf{x} - \\mathbf{x}_0) + \\frac{1}{2} (\\mathbf{x} - \\mathbf{x}_0)^T \\mathbf{H}(\\mathbf{x}_0) (\\mathbf{x} - \\mathbf{x}_0) + \\frac{1}{6} \\sum_{i=1}^{n} \\sum_{j=1}^{n} \\sum_{k=1}^{n} \\frac{\\partial^3 f(\\mathbf{x}_0)}{\\partial x_i \\partial x_j \\partial x_k} (x_i - x_{i_0})(x_j - x_{j_0})(x_k - x_{k_0}) $$\n",
    "\n",
    "где:\n",
    "- $\\nabla f(\\mathbf{x}_0)$ - градиент функции (вектор первых частных производных)\n",
    "- $\\mathbf{H}(\\mathbf{x}_0)$ - матрица Гессе (матрица вторых частных производных)\n",
    "- $\\frac{\\partial^3 f}{\\partial x_i \\partial x_j \\partial x_k}$ - тензор третьих производных\n",
    "- $(\\mathbf{x} - \\mathbf{x}_0)$ - вектор отклонения от точки разложения\n",
    "\n",
    "### Компоненты разложения\n",
    "\n",
    "**Градиент:**\n",
    "$$ \\nabla f = \\begin{bmatrix}\n",
    "\\frac{\\partial f}{\\partial x_1} \\\\\n",
    "\\frac{\\partial f}{\\partial x_2} \\\\\n",
    "\\vdots \\\\\n",
    "\\frac{\\partial f}{\\partial x_n}\n",
    "\\end{bmatrix} $$\n",
    "\n",
    "**Матрица Гессе:**\n",
    "$$ \\mathbf{H} = \\begin{bmatrix}\n",
    "\\frac{\\partial^2 f}{\\partial x_1^2} & \\frac{\\partial^2 f}{\\partial x_1 \\partial x_2} & \\cdots & \\frac{\\partial^2 f}{\\partial x_1 \\partial x_n} \\\\\n",
    "\\frac{\\partial^2 f}{\\partial x_2 \\partial x_1} & \\frac{\\partial^2 f}{\\partial x_2^2} & \\cdots & \\frac{\\partial^2 f}{\\partial x_2 \\partial x_n} \\\\\n",
    "\\vdots & \\vdots & \\ddots & \\vdots \\\\\n",
    "\\frac{\\partial^2 f}{\\partial x_n \\partial x_1} & \\frac{\\partial^2 f}{\\partial x_n \\partial x_2} & \\cdots & \\frac{\\partial^2 f}{\\partial x_n^2}\n",
    "\\end{bmatrix} $$\n",
    "\n",
    "**Тензор третьих производных:**\n",
    "Тензор третьего порядка размерности $n \\times n \\times n$, где элемент $T_{ijk}$ представляет собой:\n",
    "$$ T_{ijk} = \\frac{\\partial^3 f}{\\partial x_i \\partial x_j \\partial x_k} $$\n",
    "\n",
    "### Частный случай для нашей функции\n",
    "\n",
    "Для нашей функции $f(x_1, x_2) = 2\\log_{10}(2x_1 - 7x_2) - (2x_1 - 7x_2 - 2)^2$ будем вычислять:\n",
    "\n",
    "1. Значение функции в точке $(12, 3)$\n",
    "2. Градиент в этой точке\n",
    "3. Матрицу Гессе в этой точке\n",
    "4. Тензор третьих производных в этой точке\n",
    "5. Квадратичную и кубическую аппроксимации"
   ]
  },
  {
   "cell_type": "code",
   "execution_count": null,
   "metadata": {},
   "outputs": [],
   "source": [
    "import numpy as np\n",
    "import matplotlib.pyplot as plt\n",
    "from matplotlib.animation import FuncAnimation, FFMpegWriter\n",
    "from sympy.tensor import tensorproduct, tensorcontraction\n",
    "from mpl_toolkits.mplot3d import Axes3D\n",
    "from sympy.vector import gradient\n",
    "from typing import Union\n",
    "import sympy as sp"
   ]
  },
  {
   "cell_type": "markdown",
   "metadata": {},
   "source": [
    "## Символьные вычисления производных\n",
    "\n",
    "Используем библиотеку SymPy для аналитического вычисления производных:"
   ]
  },
  {
   "cell_type": "code",
   "execution_count": null,
   "metadata": {},
   "outputs": [],
   "source": [
    "# Символьное вычисление производных с использованием SymPy\n",
    "x = sp.symbols('x')\n",
    "f_sym = 2 * sp.log(x, 10) - (x - 2)**2"
   ]
  },
  {
   "cell_type": "markdown",
   "metadata": {},
   "source": [
    "## Вычисление производных для функции векторного аргумента\n",
    "\n",
    "Определяем переменные $x_1$ и $x_2$, подставляем $x = 2x_1 - 7x_2$ и вычисляем необходимые производные:"
   ]
  },
  {
   "cell_type": "markdown",
   "metadata": {},
   "source": [
    "## Вычисление производных для функции векторного аргумента\n",
    "\n",
    "Определяем переменные $x_1$ и $x_2$, подставляем $x = 2x_1 - 7x_2$ и вычисляем необходимые производные:"
   ]
  },
  {
   "cell_type": "code",
   "execution_count": null,
   "metadata": {},
   "outputs": [],
   "source": [
    "# Определение символьных переменных\n",
    "x1, x2 = sp.symbols('x1 x2')\n",
    "\n",
    "# Создание переменной суммы символьных переменных\n",
    "x_2d = 2*x1 - 7*x2\n",
    "\n",
    "# Подстановка переменной суммы в функцию\n",
    "f_sym_2d = f_sym.subs(x, x_2d).evalf()\n",
    "f_2d_np = sp.lambdify((x1, x2), f_sym_2d, 'numpy')\n",
    "f_2d_at_point = sp.Matrix([f_sym_2d.subs({x1:12, x2:3})])\n",
    "\n",
    "# Градиенты функции в точке (12, 3)\n",
    "gradient = sp.derive_by_array(f_sym_2d, (x1, x2))\n",
    "grad_at_point = gradient.subs({x1:12, x2:3})\n",
    "\n",
    "# Вычисление Гессиана функции в точке (12, 3)\n",
    "hessian_matrix = sp.hessian(f_sym_2d, (x1, x2))\n",
    "hessian_at_point = hessian_matrix.subs({x1: 12, x2: 3})\n",
    "\n",
    "# Вычисление тензора третьих производных (3D матрица)\n",
    "third_derivatives = sp.derive_by_array(hessian_matrix, (x1, x2))\n",
    "third_derivatives_at_point = third_derivatives.subs({x1: 12, x2: 3})"
   ]
  },
  {
   "cell_type": "markdown",
   "metadata": {},
   "source": [
    "## Построение аппроксимации Тейлора\n",
    "\n",
    "Строим разложение Тейлора второго порядка с дополнительным кубическим членом для повышения точности:"
   ]
  },
  {
   "cell_type": "code",
   "execution_count": null,
   "metadata": {},
   "outputs": [],
   "source": [
    "X_0 = sp.Matrix([12, 3])\n",
    "X = sp.Matrix([x1, x2])\n",
    "dX = X - X_0\n",
    "# Преобразуем в numpy arrays для простоты\n",
    "third_deriv_np = np.array(third_derivatives_at_point.tolist(), dtype=float)\n",
    "dX_np = np.array(dX.tolist()).flatten()  # Преобразуем (2,1) -> (2,)\n",
    "\n",
    "# Вычисляем кубический член (Тензор)\n",
    "cubic_term = 0\n",
    "for i in range(2):\n",
    "    for j in range(2):\n",
    "        for k in range(2):\n",
    "            cubic_term += (third_deriv_np[i, j, k] * \n",
    "                          dX_np[i] * dX_np[j] * dX_np[k]) / 6\n",
    "\n",
    "grad_at_point = sp.Matrix(grad_at_point)\n",
    "hessian_matrix = sp.Matrix(hessian_at_point)\n",
    "\n",
    "f_taylor_2d = (\n",
    "    f_2d_at_point + \n",
    "    grad_at_point.T * dX + \n",
    "    (dX.T * hessian_at_point * dX) / 2\n",
    "    + sp.Matrix([cubic_term])\n",
    ")[0].expand()"
   ]
  },
  {
   "cell_type": "markdown",
   "metadata": {},
   "source": [
    "## Преобразование в числовую функцию\n",
    "\n",
    "Преобразуем символьное выражение в числовую функцию для построения графиков:"
   ]
  },
  {
   "cell_type": "code",
   "execution_count": null,
   "metadata": {},
   "outputs": [],
   "source": [
    "f_taylor_2d_np = sp.lambdify((x1, x2), f_taylor_2d, 'numpy')"
   ]
  },
  {
   "cell_type": "markdown",
   "metadata": {},
   "source": [
    "## Визуализация результатов\n",
    "\n",
    "Строим 3D графики для сравнения исходной функции и её аппроксимации Тейлором:"
   ]
  },
  {
   "cell_type": "code",
   "execution_count": null,
   "metadata": {},
   "outputs": [],
   "source": [
    "# Создаем сетку вокруг точки (12, 3)\n",
    "x1_range = np.linspace(11, 13, 200)\n",
    "x2_range = np.linspace(2.5, 3.5, 200)\n",
    "X1, X2 = np.meshgrid(x1_range, x2_range)\n",
    "\n",
    "# Вычисляем значения функций\n",
    "print(\"Вычисляем значения функций...\")\n",
    "Z_original = f_2d_np(X1, X2)\n",
    "Z_taylor = f_taylor_2d_np(X1, X2)\n",
    "\n",
    "# Создаем фигуру и 3D оси\n",
    "fig = plt.figure(figsize=(12, 8))\n",
    "ax = fig.add_subplot(111, projection='3d')\n",
    "\n",
    "# Отображаем исходную функцию (полупрозрачная)\n",
    "print(\"Создаем визуализацию...\")\n",
    "surf1 = ax.plot_surface(X1, X2, Z_original, cmap='viridis', \n",
    "                       alpha=0.6, label='Исходная функция', antialiased=True)\n",
    "\n",
    "# Отображаем аппроксимацию Тейлора (сетка)\n",
    "surf2 = ax.plot_wireframe(X1, X2, Z_taylor, color='red', \n",
    "                         linewidth=1, label='Аппроксимация Тейлора', alpha=0.8)\n",
    "\n",
    "# Отмечаем точку разложения\n",
    "point = ax.scatter([12], [3], [f_2d_np(12, 3)], color='black', s=100, \n",
    "                  marker='o', label='Точка разложения (12, 3)')\n",
    "\n",
    "# Настраиваем график\n",
    "ax.set_title('Сравнение исходной функции и аппроксимации Тейлора 2-го порядка\\n', fontsize=14)\n",
    "ax.set_xlabel('$x_1$', fontsize=12)\n",
    "ax.set_ylabel('$x_2$', fontsize=12)\n",
    "ax.set_zlabel('$f(x_1, x_2)$', fontsize=12)\n",
    "\n",
    "# Добавляем легенду\n",
    "ax.legend()\n",
    "\n",
    "# Добавляем информацию об ошибке\n",
    "diff = Z_original - Z_taylor\n",
    "diff = diff[~np.isnan(diff)]\n",
    "error = np.max(np.abs(diff))\n",
    "ax.text2D(0.05, 0.95, f'Максимальная ошибка: {error:.4f}', \n",
    "          transform=ax.transAxes, fontsize=10,\n",
    "          bbox=dict(boxstyle=\"round,pad=0.3\", facecolor=\"white\", alpha=0.8))\n",
    "\n",
    "plt.tight_layout()\n",
    "\n",
    "# Функция для анимации вращения\n",
    "def update(frame):\n",
    "    ax.view_init(elev=30, azim=frame)\n",
    "    return fig,\n",
    "\n",
    "# Создаем анимацию\n",
    "print(\"Создаем анимацию...\")\n",
    "frames = np.arange(0, 360, 2)  # Полный оборот с шагом 2 градуса\n",
    "animation = FuncAnimation(fig, update, frames=frames, interval=50, blit=True)\n",
    "\n",
    "# Дополнительная информация\n",
    "print(\"\\n\" + \"=\"*50)\n",
    "print(\"АНАЛИЗ ТОЧНОСТИ АППРОКСИМАЦИИ:\")\n",
    "print(\"=\"*50)\n",
    "print(f\"Диапазон x1: {x1_range[0]:.1f} - {x1_range[-1]:.1f}\")\n",
    "print(f\"Диапазон x2: {x2_range[0]:.1f} - {x2_range[-1]:.1f}\")\n",
    "print(f\"Максимальная ошибка: {np.max(np.abs(diff)):.6f}\")\n",
    "print(f\"Средняя ошибка: {np.mean(np.abs(diff)):.6f}\")\n",
    "print(f\"Относительная ошибка: {np.mean(np.abs(diff))/np.mean(np.abs(Z_original[~np.isnan(Z_original)]))*100:.2f}%\")\n",
    "\n",
    "# Сохраняем как видео\n",
    "print(\"Сохраняем видео...\")\n",
    "try:\n",
    "    # Пытаемся использовать ffmpeg\n",
    "    writer = FFMpegWriter(fps=20, metadata=dict(artist='Matplotlib'), bitrate=1800)\n",
    "    # animation.save(\"plot_lab2.mp4\", writer=writer)\n",
    "    print(\"✅ Видео успешно сохранено как plot.mp4\")\n",
    "    \n",
    "except ImportError:\n",
    "    print(\"FFmpeg не установлен, пробуем альтернативный метод...\")\n",
    "    try:\n",
    "        # Альтернативный метод\n",
    "        animation.save(\"plot_lab2.mp4\", fps=20, extra_args=['-vcodec', 'libx264'])\n",
    "        print(\"✅ Видео успешно сохранено как plot.mp4\")\n",
    "    except:\n",
    "        print(\"❌ Не удалось сохранить видео. Установите ffmpeg:\")"
   ]
  },
  {
   "cell_type": "markdown",
   "metadata": {},
   "source": [
    "## Выводы и анализ результатов\n",
    "\n",
    "### Качественный анализ аппроксимации:\n",
    "\n",
    "1. **Точность вблизи точки разложения**: Аппроксимация Тейлора наиболее точна в непосредственной близости от точки $(12, 3)$, что соответствует теоретическим ожиданиям.\n",
    "\n",
    "2. **Поведение ошибки**: Ошибка аппроксимации возрастает по мере удаления от точки разложения, что характерно для усеченных рядов Тейлора.\n",
    "\n",
    "3. **Геометрическая интерпретация**: Исходная функция представлена полупрозрачной поверхностью, а аппроксимация - красной сеткой. Их близкое совпадение в окрестности точки разложения демонстрирует эффективность метода.\n",
    "\n",
    "4. **Практическая значимость**: Векторно-матричный подход позволяет эффективно аппроксимировать многомерные функции, что важно в задачах оптимизации, машинного обучения и физического моделирования.\n",
    "\n",
    "### Ограничения метода:\n",
    "\n",
    "- Аппроксимация точна только в окрестности точки разложения\n",
    "- Для функций с большей кривизной может потребоваться больше членов разложения\n",
    "- Вычисление производных высокого порядка может быть вычислительно сложным для многомерных функций"
   ]
  },
  {
   "cell_type": "code",
   "execution_count": null,
   "metadata": {},
   "outputs": [],
   "source": []
  }
 ],
 "metadata": {
  "kernelspec": {
   "display_name": ".venv",
   "language": "python",
   "name": "python3"
  },
  "language_info": {
   "codemirror_mode": {
    "name": "ipython",
    "version": 3
   },
   "file_extension": ".py",
   "mimetype": "text/x-python",
   "name": "python",
   "nbconvert_exporter": "python",
   "pygments_lexer": "ipython3",
   "version": "3.12.3"
  }
 },
 "nbformat": 4,
 "nbformat_minor": 2
}
