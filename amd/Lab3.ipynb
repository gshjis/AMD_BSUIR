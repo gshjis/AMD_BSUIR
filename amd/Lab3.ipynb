{
 "cells": [
  {
   "cell_type": "markdown",
   "metadata": {},
   "source": [
    "# Лабораторная работа №3\n",
    "\n",
    "## Тензорные операции и их реализация в NumPy\n",
    "\n",
    "### Цель работы\n",
    "Изучение операций с тензорами произвольной размерности, включая:\n",
    "- Тензорное транспонирование\n",
    "- Тензорное умножение с заданными параметрами λ и μ\n",
    "- Создание единичных тензоров"
   ]
  },
  {
   "cell_type": "markdown",
   "metadata": {},
   "source": [
    "### Теоретическая часть\n",
    "\n",
    "Тензорное умножение с параметрами λ и μ представляет собой обобщение матричного умножения на многомерные массивы. Параметры λ и μ определяют:\n",
    "- λ - количество индексов для суммирования (контравариантные индексы)\n",
    "- μ - количество индексов для внешнего произведения (ковариантные индексы)\n",
    "\n",
    "Формально операция определяется как:\n",
    "$$ C_{i_1...i_k,j_1...j_v} = \\sum_{s_1...s_λ,c_1...c_μ} A_{i_1...i_k,s_1...s_λ,c_1...c_μ} \\cdot B_{s_1...s_λ,c_1...c_μ,j_1...j_v} $$"
   ]
  },
  {
   "cell_type": "code",
   "execution_count": null,
   "metadata": {},
   "outputs": [],
   "source": [
    "import numpy as np\n",
    "import sympy as sp\n",
    "\n",
    "# Инициализация параметров\n",
    "p = 4\n",
    "q = 4 \n",
    "n = 2\n",
    "\n",
    "# Генерация случайных тензоров\n",
    "dims_A = np.random.randint(low=1, high=n+1, size=p)\n",
    "dims_B = np.random.randint(low=1, high=n+1, size=q)\n",
    "A = np.random.randint(-10, 10, size=dims_A)\n",
    "B = np.random.randint(-10, 10, size=dims_B)"
   ]
  },
  {
   "cell_type": "markdown",
   "metadata": {},
   "source": [
    "### Тензорное транспонирование\n",
    "\n",
    "Транспонирование тензора - это перестановка его индексов согласно заданной перестановке:"
   ]
  },
  {
   "cell_type": "code",
   "execution_count": null,
   "metadata": {},
   "outputs": [],
   "source": [
    "# Генерация перестановок для транспонирования\n",
    "T_comb = np.array([3, 0, 1, 2])\n",
    "A_T = np.random.choice(T_comb, p, replace=False)\n",
    "B_T = np.random.choice(T_comb, q, replace=False)\n",
    "\n",
    "# Применение транспонирования\n",
    "A_transposed = A.transpose(A_T)\n",
    "B_transposed = B.transpose(B_T)"
   ]
  },
  {
   "cell_type": "markdown",
   "metadata": {},
   "source": [
    "### Реализация тензорного умножения\n",
    "\n",
    "Функция mat_mult выполняет обобщенное тензорное умножение с параметрами λ и μ:"
   ]
  },
  {
   "cell_type": "code",
   "execution_count": null,
   "metadata": {},
   "outputs": [],
   "source": [
    "def mat_mult(A: np.ndarray, B: np.ndarray, lambda_value: int, mu_value: int) -> np.ndarray:\n",
    "    \"\"\"\n",
    "    Выполняет тензорное умножение с заданными параметрами λ и μ\n",
    "    \n",
    "    Параметры:\n",
    "    A, B - входные тензоры\n",
    "    lambda_value - количество индексов для суммирования\n",
    "    mu_value - количество индексов для внешнего произведения\n",
    "    \n",
    "    Возвращает:\n",
    "    Результирующий тензор\n",
    "    \"\"\"\n",
    "    A_p = len(A.shape)\n",
    "    B_q = len(B.shape)\n",
    "    \n",
    "    # Проверка корректности параметров\n",
    "    if lambda_value < 0 or mu_value < 0:\n",
    "        raise ValueError(\"Параметры lambda и mu должны быть неотрицательными\")\n",
    "        \n",
    "    # Вычисление размерностей\n",
    "    k = A_p - lambda_value - mu_value\n",
    "    v = B_q - lambda_value - mu_value\n",
    "    \n",
    "    # Проверка совместимости размерностей\n",
    "    if (A.shape[k:k+lambda_value] != B.shape[:lambda_value] or \n",
    "        A.shape[k+lambda_value:] != B.shape[lambda_value:lambda_value+mu_value]):\n",
    "        raise ValueError(\"Несовместимые размерности тензоров\")\n",
    "    \n",
    "    # Инициализация результата\n",
    "    result_shape = A.shape[:k] + B.shape[lambda_value+mu_value:]\n",
    "    D = np.zeros(result_shape if result_shape else (1,))\n",
    "    \n",
    "    # Вычисление произведения\n",
    "    for l_idx in np.ndindex(A.shape[:k]):\n",
    "        for m_idx in np.ndindex(B.shape[lambda_value+mu_value:]):\n",
    "            sum_result = 0.0\n",
    "            for s_idx in np.ndindex(A.shape[k:k+lambda_value]):\n",
    "                for c_idx in np.ndindex(A.shape[k+lambda_value:]):\n",
    "                    sum_result += A[l_idx + s_idx + c_idx] * B[s_idx + c_idx + m_idx]\n",
    "            D[l_idx + m_idx] = sum_result\n",
    "    \n",
    "    return np.squeeze(D)"
   ]
  },
  {
   "cell_type": "markdown",
   "metadata": {},
   "source": [
    "### Создание единичного тензора\n",
    "\n",
    "Функция create_eye генерирует единичный тензор заданной размерности:"
   ]
  },
  {
   "cell_type": "code",
   "execution_count": null,
   "metadata": {},
   "outputs": [],
   "source": [
    "def create_eye(lambda_value: int, mu_value: int, n: int) -> np.ndarray:\n",
    "    \"\"\"\n",
    "    Создает единичный тензор с параметрами λ и μ\n",
    "    \n",
    "    Параметры:\n",
    "    lambda_value - количество индексов для суммирования\n",
    "    mu_value - количество индексов для внешнего произведения\n",
    "    n - размерность каждого индекса\n",
    "    \n",
    "    Возвращает:\n",
    "    Единичный тензор\n",
    "    \"\"\"\n",
    "    if lambda_value < 0 or mu_value < 0 or n < 0:\n",
    "        raise ValueError(\"Параметры должны быть неотрицательными\")\n",
    "    \n",
    "    total_dims = 2 * (mu_value + lambda_value)\n",
    "    shape = (n,) * total_dims\n",
    "    E = np.zeros(shape, dtype=float)\n",
    "    \n",
    "    if total_dims == 0:\n",
    "        return np.array(1.0)\n",
    "    \n",
    "    c_indices = (n,) * mu_value \n",
    "    m_indices = (n,) * mu_value \n",
    "    s_indices = (n,) * lambda_value \n",
    "    \n",
    "    if mu_value == 0:\n",
    "        for s_idx in np.ndindex(s_indices):  \n",
    "            E[s_idx + s_idx] = 1.0  \n",
    "    else:\n",
    "        for c_idx in np.ndindex(c_indices):  \n",
    "            for m_idx in np.ndindex(m_indices):  \n",
    "                if c_idx == m_idx:  \n",
    "                    for s_idx in np.ndindex(s_indices):\n",
    "                        full_idx = c_idx + s_idx + m_idx\n",
    "                        E[full_idx] = 1.0\n",
    "    \n",
    "    return E"
   ]
  },
  {
   "cell_type": "markdown",
   "metadata": {},
   "source": [
    "### Пример использования\n",
    "\n",
    "Демонстрация работы функций на конкретных примерах:"
   ]
  },
  {
   "cell_type": "code",
   "execution_count": null,
   "metadata": {},
   "outputs": [],
   "source": [
    "# Пример тензорного умножения\n",
    "D = mat_mult(A, B, lambda_value=0, mu_value=1)\n",
    "print(\"Форма A:\", A.shape)\n",
    "print(\"Форма B:\", B.shape)\n",
    "print(\"Форма результата:\", D.shape)\n",
    "\n",
    "# Пример создания единичного тензора\n",
    "E_l_m = create_eye(lambda_value=0, mu_value=1, n=2)\n",
    "print(\"Единичный тензор:\", E_l_m)"
   ]
  },
  {
   "cell_type": "markdown",
   "metadata": {},
   "source": [
    "### Выводы\n",
    "\n",
    "1. Реализованы базовые операции тензорной алгебры\n",
    "2. Разработана универсальная функция тензорного умножения\n",
    "3. Создана функция генерации единичных тензоров\n",
    "4. Проведена проверка корректности работы на тестовых примерах"
   ]
  }
 ],
 "metadata": {
  "kernelspec": {
   "display_name": ".venv",
   "language": "python",
   "name": "python3"
  },
  "language_info": {
   "codemirror_mode": {
    "name": "ipython",
    "version": 3
   },
   "file_extension": ".py",
   "mimetype": "text/x-python",
   "name": "python",
   "nbconvert_exporter": "python",
   "pygments_lexer": "ipython3",
   "version": "3.12.3"
  }
 },
 "nbformat": 4,
 "nbformat_minor": 4
}
