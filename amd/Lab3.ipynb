{
 "cells": [
  {
   "cell_type": "code",
   "execution_count": 11,
   "id": "c1ec2210",
   "metadata": {},
   "outputs": [],
   "source": [
    "import numpy as np\n",
    "import sympy as sp"
   ]
  },
  {
   "cell_type": "code",
   "execution_count": 12,
   "id": "2a4bfbf9",
   "metadata": {},
   "outputs": [],
   "source": [
    "p = 4\n",
    "q = 4\n",
    "n = 2\n",
    "\n",
    "dims_A = np.random.randint(low = 1, high = n+1, size = p)\n",
    "dims_B = np.random.randint(low = 1, high = n+1, size = q)\n",
    "\n",
    "A = np.random.randint(-10, 10, size = dims_A)\n",
    "B = np.random.randint(-10, 10, size = dims_B)"
   ]
  },
  {
   "cell_type": "code",
   "execution_count": 13,
   "id": "64f39d0b",
   "metadata": {},
   "outputs": [],
   "source": [
    "T_comb = np.array([3, 0, 1, 2])\n",
    "A_T = np.random.choice(T_comb, p, replace=False)\n",
    "B_T = np.random.choice(T_comb, q, replace=False)\n",
    "A_transposed = A.transpose(A_T)\n",
    "B_transposed = B.transpose(B_T)"
   ]
  },
  {
   "cell_type": "code",
   "execution_count": 14,
   "id": "99df302d",
   "metadata": {},
   "outputs": [
    {
     "data": {
      "text/plain": [
       "(2, 1, 2, 2)"
      ]
     },
     "execution_count": 14,
     "metadata": {},
     "output_type": "execute_result"
    }
   ],
   "source": [
    "A.shape"
   ]
  },
  {
   "cell_type": "code",
   "execution_count": 15,
   "id": "480e30f9",
   "metadata": {},
   "outputs": [
    {
     "data": {
      "text/plain": [
       "(2, 2, 2, 1)"
      ]
     },
     "execution_count": 15,
     "metadata": {},
     "output_type": "execute_result"
    }
   ],
   "source": [
    "A_transposed.shape"
   ]
  },
  {
   "cell_type": "code",
   "execution_count": 16,
   "id": "7c8ffc3a",
   "metadata": {},
   "outputs": [],
   "source": [
    "lambda_value = 2\n",
    "mu_value = 2\n",
    "\n",
    "def mat_mult(A: np.ndarray, B: np.ndarray, lambda_value:int, mu_value:int) -> np.ndarray:\n",
    "    A_p = len(A.shape)\n",
    "    B_q = len(B.shape)\n",
    "\n",
    "    k = A_p - lambda_value - mu_value\n",
    "    v = B_q - lambda_value - mu_value\n",
    "\n",
    "    l = A.shape[:k]\n",
    "    s = A.shape[k:k+lambda_value]\n",
    "    c = A.shape[k+lambda_value:k+lambda_value+mu_value]\n",
    "    m = B.shape[mu_value + lambda_value: mu_value + lambda_value + v]\n",
    "\n",
    "    D = np.zeros((l+m))\n",
    "    return D\n",
    "\n",
    "\n"
   ]
  },
  {
   "cell_type": "code",
   "execution_count": 30,
   "id": "00486c17",
   "metadata": {},
   "outputs": [],
   "source": [
    "def mat_mult(A: np.ndarray, B: np.ndarray, lambda_value: int, mu_value: int) -> np.ndarray:\n",
    "    \n",
    "    A_p = len(A.shape)\n",
    "    B_q = len(B.shape)\n",
    "\n",
    "    k = A_p - lambda_value - mu_value\n",
    "    v = B_q - lambda_value - mu_value\n",
    "\n",
    "    l = A.shape[:k]\n",
    "    s_A = A.shape[k:k+lambda_value]\n",
    "    c_A = A.shape[k+lambda_value:k+lambda_value+mu_value]\n",
    "    s_B = B.shape[:lambda_value]\n",
    "    c_B = B.shape[lambda_value:lambda_value+mu_value]\n",
    "\n",
    "    m = B.shape[lambda_value+mu_value:]\n",
    "    \n",
    "    if k < 0 or v < 0 or lambda_value < 0 or mu_value < 0:\n",
    "        raise ValueError\n",
    "    if k + lambda_value + mu_value != A_p:\n",
    "        raise ValueError\n",
    "    if v + lambda_value + mu_value != B_q:\n",
    "        raise ValueError\n",
    "    if s_A != s_B or c_A != c_B:\n",
    "        raise ValueError\n",
    "\n",
    "    D_shape = l + m\n",
    "    D = np.zeros(D_shape if D_shape else (1,))\n",
    "\n",
    "    l_indices = [range(dim) for dim in l]\n",
    "    m_indices = [range(dim) for dim in m]\n",
    "    s_indices = [range(dim) for dim in s_A]\n",
    "    c_indices = [range(dim) for dim in c_A]\n",
    "\n",
    "    for l_idx in np.ndindex(l):\n",
    "        for m_idx in np.ndindex(m):\n",
    "            sum_result = 0.0\n",
    "            for s_idx in np.ndindex(s_A):\n",
    "                for c_idx in np.ndindex(c_A):\n",
    "                    sum_result += A[l_idx + s_idx + c_idx] * B[s_idx + c_idx + m_idx]\n",
    "            D[l_idx + m_idx] = sum_result\n",
    "    \n",
    "    return np.squeeze(D)"
   ]
  },
  {
   "cell_type": "code",
   "execution_count": 31,
   "id": "0aff171a",
   "metadata": {},
   "outputs": [
    {
     "name": "stdout",
     "output_type": "stream",
     "text": [
      "(2, 1, 2, 2)\n",
      "(2, 1, 1, 1)\n",
      "(2, 2)\n"
     ]
    }
   ],
   "source": [
    "D = mat_mult(A, B, lambda_value=0, mu_value=1)\n",
    "print(A.shape)\n",
    "print(B.shape)\n",
    "print(D.shape)"
   ]
  },
  {
   "cell_type": "code",
   "execution_count": null,
   "id": "614b28d2",
   "metadata": {},
   "outputs": [],
   "source": [
    "\n",
    "def create_eye(lambda_value: int, mu_value: int, n: int) -> np.ndarray:\n",
    "\n",
    "    if lambda_value < 0 or mu_value < 0 or n < 0:\n",
    "        raise ValueError(\"lambda_value, mu_value, and n must be non-negative\")\n",
    "\n",
    "    total_dims = 2 * (mu_value + lambda_value)\n",
    "    shape = (n,) * total_dims\n",
    "    \n",
    "    E = np.zeros(shape, dtype=float)\n",
    "    \n",
    "    if total_dims == 0:\n",
    "        return np.array(1.0)\n",
    "    \n",
    "    c_indices = (n,) * mu_value \n",
    "    m_indices = (n,) * mu_value \n",
    "    s_indices = (n,) * lambda_value \n",
    "    \n",
    "    if mu_value == 0:\n",
    "        for s_idx in np.ndindex(s_indices):  \n",
    "            E[s_idx + s_idx] = 1.0  \n",
    "    else:\n",
    "        for c_idx in np.ndindex(c_indices):  \n",
    "            for m_idx in np.ndindex(m_indices):  \n",
    "                if c_idx == m_idx:  \n",
    "                    for s_idx in np.ndindex(s_indices):\n",
    "                        full_idx = c_idx + s_idx + m_idx\n",
    "                        E[full_idx] = 1.0\n",
    "    \n",
    "    return E"
   ]
  },
  {
   "cell_type": "code",
   "execution_count": 43,
   "id": "219bde8d",
   "metadata": {},
   "outputs": [],
   "source": [
    "E_l_m = create_eye(lambda_value=0, mu_value=1, n=2)"
   ]
  },
  {
   "cell_type": "code",
   "execution_count": 44,
   "id": "42e76622",
   "metadata": {},
   "outputs": [
    {
     "data": {
      "text/plain": [
       "array([[ 55.,   3.],\n",
       "       [-38., -16.]])"
      ]
     },
     "execution_count": 44,
     "metadata": {},
     "output_type": "execute_result"
    }
   ],
   "source": [
    "mat_mult(D, E_l_m, lambda_value=0, mu_value=1)"
   ]
  },
  {
   "cell_type": "code",
   "execution_count": 45,
   "id": "0b1b23da",
   "metadata": {},
   "outputs": [
    {
     "data": {
      "text/plain": [
       "array([[ 55.,   3.],\n",
       "       [-38., -16.]])"
      ]
     },
     "execution_count": 45,
     "metadata": {},
     "output_type": "execute_result"
    }
   ],
   "source": [
    "D"
   ]
  },
  {
   "cell_type": "code",
   "execution_count": null,
   "id": "92a09dee",
   "metadata": {},
   "outputs": [],
   "source": []
  }
 ],
 "metadata": {
  "kernelspec": {
   "display_name": ".venv",
   "language": "python",
   "name": "python3"
  },
  "language_info": {
   "codemirror_mode": {
    "name": "ipython",
    "version": 3
   },
   "file_extension": ".py",
   "mimetype": "text/x-python",
   "name": "python",
   "nbconvert_exporter": "python",
   "pygments_lexer": "ipython3",
   "version": "3.12.3"
  }
 },
 "nbformat": 4,
 "nbformat_minor": 5
}
